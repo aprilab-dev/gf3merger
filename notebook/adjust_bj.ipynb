{
 "cells": [
  {
   "cell_type": "code",
   "execution_count": null,
   "metadata": {},
   "outputs": [],
   "source": [
    "import os\n",
    "import numpy as np\n",
    "from gf3merger import config, utils\n",
    "\n",
    "dir_slc = \"/data/projects/ty_beijing_asc_test/stack/process/S01B01\"\n",
    "imgs = '20231012'"
   ]
  },
  {
   "cell_type": "code",
   "execution_count": null,
   "metadata": {},
   "outputs": [],
   "source": [
    "img_dir = os.path.join(dir_slc, imgs)\n",
    "\n",
    "raw_orig = os.path.join(img_dir, \"slave_rsmp.raw\")\n",
    "raw_bak = os.path.join(img_dir, \"slave_rsmp.raw.bak\")\n",
    "\n",
    "slc = utils.read_rslc(raw_orig)\n",
    "\n",
    "os.rename(raw_orig, raw_bak)\n",
    "\n",
    "np.flipud(slc)\n",
    "\n",
    "utils.write_rslc(slc, raw_orig)"
   ]
  }
 ],
 "metadata": {
  "language_info": {
   "name": "python"
  }
 },
 "nbformat": 4,
 "nbformat_minor": 2
}
