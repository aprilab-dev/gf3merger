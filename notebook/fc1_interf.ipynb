{
 "cells": [
  {
   "cell_type": "code",
   "execution_count": null,
   "metadata": {},
   "outputs": [],
   "source": [
    "import os\n",
    "from gf3merger import config, utils\n",
    "\n",
    "dir_slc = \"/data/tests/yuxiao/fc1_coreg_test/stack/process/S01B01\"\n",
    "mother_date = \"20231126\"\n",
    "daughter_date = \"20231207\"\n",
    "\n",
    "mother = utils.read_rslc(os.path.join(dir_slc, mother_date))\n",
    "daughter = utils.read_rslc(os.path.join(dir_slc, daughter_date))\n",
    "\n",
    "cross_interf = mother * np.conj(daughter\n",
    "\n",
    "plt.rcParams['figure.figsize'] = [20, 10]\n",
    "plt.imshow(np.angle(cross_interf))\n",
    "plt.colorbar(shrink=0.2)"
   ]
  }
 ],
 "metadata": {
  "language_info": {
   "name": "python"
  }
 },
 "nbformat": 4,
 "nbformat_minor": 2
}
