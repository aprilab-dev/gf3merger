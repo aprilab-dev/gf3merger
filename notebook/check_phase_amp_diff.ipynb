{
 "cells": [
  {
   "attachments": {},
   "cell_type": "markdown",
   "metadata": {},
   "source": [
    "### [WIP] Experiment 1: Check the phase and amplitude difference between two coregistered images on same day\n",
    "\n",
    "In this experiment, we took 2 images on the same day with a significant amount of overlap. We coregistered the images. Now we want to check the phase and amplitude differences between the two images and see what's the outcome. "
   ]
  },
  {
   "cell_type": "code",
   "execution_count": null,
   "metadata": {},
   "outputs": [],
   "source": [
    "%load_ext autoreload\n",
    "%autoreload 2"
   ]
  },
  {
   "cell_type": "code",
   "execution_count": null,
   "metadata": {},
   "outputs": [],
   "source": [
    "# import GF3Merger\n",
    "import sys\n",
    "sys.path.append(\"..\")\n",
    "\n",
    "import os\n",
    "import matplotlib.pyplot as plt\n",
    "import numpy as np\n",
    "\n",
    "from gf3merger.merge import GF3Merger\n",
    "from gf3merger import utils"
   ]
  },
  {
   "cell_type": "code",
   "execution_count": null,
   "metadata": {},
   "outputs": [],
   "source": [
    "# Step 1: Load the data\n",
    "dir_slc = \"fakepath\"\n",
    "parent_date = \"20201129\"\n",
    "child_date = \"20201130\"\n",
    "# parent_date = \"20210225\"\n",
    "# child_date = \"20210226\"\n",
    "parent_arr = utils.read_rslc(os.path.join(dir_slc, parent_date))\n",
    "child_arr = utils.read_rslc(os.path.join(dir_slc, child_date))"
   ]
  },
  {
   "cell_type": "code",
   "execution_count": null,
   "metadata": {
    "tags": []
   },
   "outputs": [],
   "source": [
    "# Step 2: Crop the data (to a fixed )\n",
    "# offset = 20360\n",
    "offset = 21100  # this number is determined by a manual inspection\n",
    "\n",
    "parent_cropped = parent_arr[offset:,]\n",
    "child_cropped = child_arr[offset:,]"
   ]
  },
  {
   "cell_type": "code",
   "execution_count": null,
   "metadata": {},
   "outputs": [],
   "source": [
    "# Step 3: Check Phase Differences\n",
    "cross_interf = parent_cropped * np.conj(child_cropped)\n",
    "# plot an image in jupyter notebook\n",
    "plt.imshow(np.angle(cross_interf))"
   ]
  },
  {
   "cell_type": "code",
   "execution_count": null,
   "metadata": {},
   "outputs": [],
   "source": [
    "# Step 4: Check Amplitude Differences\n",
    "diff_ratio = np.abs(parent_cropped)/np.abs(child_cropped)\n",
    "# data clean process\n",
    "diff_ratio[diff_ratio==np.inf]=0\n",
    "diff_ratio[diff_ratio==-np.inf]=0\n",
    "diff_ratio[np.isnan(diff_ratio)]=0\n",
    "\n",
    "ratio_mean = np.mean(diff_ratio)\n",
    "ratio_std = np.std(diff_ratio)\n",
    "\n",
    "print(\"mean: \", ratio_mean)\n",
    "print(\"std: \", ratio_std)\n",
    "\n",
    "plt.rcParams['figure.figsize'] = [20, 10]\n",
    "plt.imshow(diff_ratio,vmin=ratio_mean-ratio_std, vmax=ratio_mean+ratio_std)\n",
    "plt.colorbar(shrink=0.2)\n",
    "\n"
   ]
  }
 ],
 "metadata": {
  "kernelspec": {
   "display_name": "gf3merger",
   "language": "python",
   "name": "python3"
  },
  "language_info": {
   "codemirror_mode": {
    "name": "ipython",
    "version": 3
   },
   "file_extension": ".py",
   "mimetype": "text/x-python",
   "name": "python",
   "nbconvert_exporter": "python",
   "pygments_lexer": "ipython3",
   "version": "3.10.10"
  },
  "orig_nbformat": 4
 },
 "nbformat": 4,
 "nbformat_minor": 2
}
